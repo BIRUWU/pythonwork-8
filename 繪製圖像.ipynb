{
 "cells": [
  {
   "cell_type": "code",
   "execution_count": 1,
   "id": "c4061060-2c3d-4ef5-9827-ddfd39f1e2d9",
   "metadata": {},
   "outputs": [],
   "source": [
    "from PIL import Image\n",
    "pic = Image.open('C:/Users/UESR/Desktop/0528.jpg')"
   ]
  },
  {
   "cell_type": "code",
   "execution_count": 2,
   "id": "91554d1c-89ef-4f4e-90e3-a1bf384981bf",
   "metadata": {},
   "outputs": [
    {
     "name": "stdout",
     "output_type": "stream",
     "text": [
      "圖片寬度: 736\n",
      "圖片長度: 960\n"
     ]
    }
   ],
   "source": [
    "print('圖片寬度:', pic.width)\n",
    "print('圖片長度:', pic.height)"
   ]
  },
  {
   "cell_type": "code",
   "execution_count": 3,
   "id": "df36ca0c-2b95-4dd6-bed2-a2a1e279dbb3",
   "metadata": {},
   "outputs": [
    {
     "name": "stdout",
     "output_type": "stream",
     "text": [
      "圖片檔案格式: JPEG\n",
      "圖片彩色模式: RGB\n",
      "圖片大小: (736, 960)\n"
     ]
    }
   ],
   "source": [
    "print('圖片檔案格式:', pic.format)\n",
    "print('圖片彩色模式:', pic.mode)\n",
    "print('圖片大小:', pic.size)"
   ]
  },
  {
   "cell_type": "code",
   "execution_count": 4,
   "id": "cd278164-574e-4e0c-98d3-3d9b0240897f",
   "metadata": {},
   "outputs": [],
   "source": [
    "pic.show()"
   ]
  },
  {
   "cell_type": "code",
   "execution_count": 7,
   "id": "390a7c52-fdde-440d-ad4f-b6f4d911f8cf",
   "metadata": {},
   "outputs": [
    {
     "name": "stdout",
     "output_type": "stream",
     "text": [
      "原本的圖片色彩模式: RGB\n",
      "轉換黑白後的圖片色彩模式: 1\n"
     ]
    }
   ],
   "source": [
    "print('原本的圖片色彩模式:', pic.mode)\n",
    "new_pic =  pic.convert('1')\n",
    "new_pic.show()\n",
    "print('轉換黑白後的圖片色彩模式:', new_pic.mode)"
   ]
  },
  {
   "cell_type": "code",
   "execution_count": 13,
   "id": "e0decafd-d529-4e1d-b5c7-8a48bd1f1b1f",
   "metadata": {},
   "outputs": [],
   "source": [
    "new_pic = pic.rotate(30)\n",
    "new_pic.show()"
   ]
  },
  {
   "cell_type": "code",
   "execution_count": 14,
   "id": "0f1a7af6-93ef-4b1f-a14d-7ec83a0ee31a",
   "metadata": {},
   "outputs": [],
   "source": [
    "new_pic = pic.rotate(-30)\n",
    "new_pic.show()"
   ]
  },
  {
   "cell_type": "code",
   "execution_count": 15,
   "id": "952c3db1-a777-463b-ba6a-032bed496e75",
   "metadata": {},
   "outputs": [],
   "source": [
    "from PIL import Image\n",
    "from PIL import ImageFilter\n",
    "pic = Image.open('C:/Users/UESR/Desktop/0528.jpg')"
   ]
  },
  {
   "cell_type": "code",
   "execution_count": 16,
   "id": "b4f18f30-312a-47e8-a867-c1a2c3d91ac7",
   "metadata": {},
   "outputs": [],
   "source": [
    "new_pic = pic.filter(ImageFilter.CONTOUR)\n",
    "new_pic.save('C:/Users/UESR/Desktop/05282.jpg')\n",
    "new_pic.show()"
   ]
  },
  {
   "cell_type": "code",
   "execution_count": 18,
   "id": "93c07d3b-d241-4385-a767-e85c2396436e",
   "metadata": {},
   "outputs": [
    {
     "name": "stdout",
     "output_type": "stream",
     "text": [
      "原圖大小: (736, 960)\n",
      "縮放後圖形大小: (400, 400)\n"
     ]
    }
   ],
   "source": [
    "print('原圖大小:', pic.size)\n",
    "new_pic = pic.resize((400, 400))\n",
    "print('縮放後圖形大小:', new_pic.size)\n",
    "new_pic.save('C:/Users/UESR/Desktop/05283.jpg')\n",
    "new_pic.show()"
   ]
  },
  {
   "cell_type": "code",
   "execution_count": 19,
   "id": "f88b4d07-c166-47c5-b5c9-8516801c2485",
   "metadata": {},
   "outputs": [],
   "source": [
    "from PIL import Image, ImageFont, ImageDraw\n",
    "pic = Image.open('C:/Users/UESR/Desktop/0528.jpg')"
   ]
  },
  {
   "cell_type": "code",
   "execution_count": 23,
   "id": "1f61e723-6b2e-4b17-82c4-f7557850b1a5",
   "metadata": {},
   "outputs": [],
   "source": [
    "t_font = ImageFont.truetype('C:/Users/UESR/Desktop/字體/Oz焦糖下午茶.ttf', 30)\n",
    "draw = ImageDraw.Draw(pic)\n",
    "\n",
    "draw.text((20, 30), '哈囉', font = t_font, fill = (250,0,0,250))\n",
    "draw.text((20, 100), '你好', font = t_font, fill = (0,25,0,55))\n",
    "pic.show()"
   ]
  },
  {
   "cell_type": "code",
   "execution_count": null,
   "id": "2372be3f-df2e-4fb5-a9d9-6548193df7ee",
   "metadata": {},
   "outputs": [],
   "source": []
  }
 ],
 "metadata": {
  "kernelspec": {
   "display_name": "Python 3 (ipykernel)",
   "language": "python",
   "name": "python3"
  },
  "language_info": {
   "codemirror_mode": {
    "name": "ipython",
    "version": 3
   },
   "file_extension": ".py",
   "mimetype": "text/x-python",
   "name": "python",
   "nbconvert_exporter": "python",
   "pygments_lexer": "ipython3",
   "version": "3.11.7"
  }
 },
 "nbformat": 4,
 "nbformat_minor": 5
}
